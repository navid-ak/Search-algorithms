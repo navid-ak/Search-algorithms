{
 "cells": [
  {
   "cell_type": "markdown",
   "metadata": {},
   "source": [
    "<img src=\"1200px-University_of_Tehran_logo.svg.png\" width=\"100\" style=\"float:left;\"/>\n",
    "\n",
    "<img src=\"fanni.png\" width=\"120\" style=\"float:right;position: relative;top: -25px;\"/>\n",
    "\n",
    "\n",
    "<h1 style=\"float:center;\" align=\"center\">Computer Assignment 1</h1>\n",
    "<h4 style=\"float:center;\" align=\"center\"><b> Navid Akbari ( 810895023 ) </b></h4>\n",
    "\n",
    "<br>\n",
    "\n",
    "Goal of this computer assignment is getting more familier with searching algorithms. From searching algorithms we will learn `BFS`, `IDS`, and `Astar Search`. All of these algorithms have an optimal answer but with different exectuion time. We compare these algorithm at last of this document."
   ]
  },
  {
   "cell_type": "code",
   "execution_count": 1,
   "metadata": {},
   "outputs": [],
   "source": [
    "import time \n",
    "from collections import deque\n",
    "import math\n",
    "import pandas as pd\n",
    "import matplotlib.pyplot as plt\n",
    "from queue import PriorityQueue # It uses for Astar's frontier\n",
    "import re #for finding digits in a string"
   ]
  },
  {
   "cell_type": "markdown",
   "metadata": {},
   "source": [
    "### Problem Modeling\n",
    "\n",
    "We need to find the steps which lead to the arrival of patients to the hospital. We need to find the optimal way of doing this. We can model the problem and change it in order to make it a search problem. Then we can use search strategies to solve the problem.\n",
    "\n",
    "We can model our problem such that:\n",
    "\n",
    "- **Initial State**: The map structure as read from the file\n",
    "\n",
    "- **Actions**: Ambulance can move UP, DOWN, RIGHT, and LEFT if its way is not blocked by walls or patients\n",
    "\n",
    "- **Transition Model**: If the ambulance goes from one place to another, it will be removed from the previous position and added to the new one in the map. If any patients exist in front of the ambulance, the patient will move further one step in the same direction. After each movement, the state will be the new map with the changed mentioned.\n",
    "\n",
    "- **Goal State**: The goal is to have a map free of patients.\n",
    "\n",
    "- **Path Cost**: The number of movements in order to reach the solution will be the path cost. (The depth of the solution in the search tree)"
   ]
  },
  {
   "cell_type": "markdown",
   "metadata": {},
   "source": [
    "In order to keep the states and do the necessary actions on them, I have defined a class structure called State. This class has the attributes below:\n",
    "\n",
    "- **map**: The string of map (in this class, I didn't change map data from string to other data structures like 2d array. Because it got more time to find patients and ambulance.)\n",
    "\n",
    "- **patientsNumber**: Number of patients exists on the map in each state. This attribute is using for finding the goal state.\n",
    "\n",
    "- **ambulancePosition**: I have used this attribute for creating a new state from the previous state.\n",
    "\n",
    "- **patientsPosition**: This attribute is using for moving the patient if the ambulance has moved it forward.\n",
    "\n",
    "- **hospitalsCapacities**: For calculating new capacity of hospital after patients arrive there.\n",
    "\n",
    "The actions needed for the states and transition model are implemented as methods of the class.\n",
    "\n",
    "- **getPossibleStates**: This method calculate possible states that are reachable from current state. **checkObstacle** and **move** are used in this method. The former one is used for checking that the new state is possible or not, and the later change the map and save it in new map.\n",
    "\n",
    "- **isGoalState**: This method is used to find out that the state is goal state or not.\n",
    "\n",
    "- **firstHeuristic** and **secondHeuristic**: These are huristic functions used in Astar algorithm. I explain them later.\n"
   ]
  },
  {
   "cell_type": "code",
   "execution_count": 2,
   "metadata": {},
   "outputs": [],
   "source": [
    "class State:\n",
    "    \n",
    "    def __init__(self, mapData):\n",
    "        self.map = mapData\n",
    "        self.ncols = self.map.find('\\n')\n",
    "        self.patientsNumber = self.getNumberOfPatients()\n",
    "        self.patientsPosition = self.getPatientsPostions()\n",
    "        self.ambulancePosition = self.getAmbulancePosition()\n",
    "        self.hospitalsCapacities = self.getHospitalsCapacities()\n",
    "        \n",
    "    def getNumberOfPatients(self):\n",
    "        return self.map.count('P')\n",
    "    \n",
    "    def getAmbulancePosition(self):\n",
    "        return self.change_1d_to_2d(self.map.find('A'))\n",
    "    \n",
    "    def getPatientsPostions(self):\n",
    "        return [self.change_1d_to_2d(i) for i in range(len(self.map)) if self.map.startswith('P', i)]\n",
    "    \n",
    "    def getHospitalsCapacities(self):\n",
    "        return [int(x) for x in re.findall(r'[0-9]+', self.map)]\n",
    "    \n",
    "    def change_pos_to_1d(self, pos):\n",
    "        return pos[1]*(self.ncols+1) + pos[0]\n",
    "    \n",
    "    def change_2d_to_1d(self, y, x):\n",
    "        return x*(self.ncols+1) + y\n",
    "    \n",
    "    def change_1d_to_2d(self, i):\n",
    "        x = int(i / (self.ncols + 1))\n",
    "        y = i - (self.ncols + 1) * x\n",
    "        return y,x\n",
    "    \n",
    "    def isGoalState(self):\n",
    "        return True if self.patientsNumber == 0 else False\n",
    "    \n",
    "    def checkObstacle(self, i, j, direction):\n",
    "        if i < 0 and j < 0 : \n",
    "            return False\n",
    "        index = self.change_2d_to_1d(i, j)\n",
    "        \n",
    "        if self.map[index] == 'P':\n",
    "            if direction == 'Right':\n",
    "                if self.map[self.change_2d_to_1d(i+1, j)] == 'P'  or self.map[self.change_2d_to_1d(i+1, j)] == '#':\n",
    "                    return False\n",
    "            if direction == 'Down':\n",
    "                if self.map[self.change_2d_to_1d(i, j+1)] == 'P'  or self.map[self.change_2d_to_1d(i, j+1)] == '#':\n",
    "                    return False\n",
    "            if direction == 'Left':\n",
    "                if self.map[self.change_2d_to_1d(i-1, j)] == 'P'  or self.map[self.change_2d_to_1d(i-1, j)] == '#':\n",
    "                    return False\n",
    "            if direction == 'Up':\n",
    "                if self.map[self.change_2d_to_1d(i, j-1)] == 'P'  or self.map[self.change_2d_to_1d(i, j-1)] == '#':\n",
    "                    return False\n",
    "        if self.map[index] == '#':\n",
    "            return False\n",
    "        \n",
    "        return True\n",
    "    \n",
    "    def changeMap(self, map, y, x, j, i, agent):\n",
    "        index_first = x*(self.ncols+1) + y\n",
    "        index_sec = i*(self.ncols+1) + j\n",
    "        new = map[:index_first] + ' ' + map[index_first+1:]\n",
    "        return new[:index_sec] + agent + new[index_sec+1:]\n",
    "    \n",
    "    def move(self, i, j, direction):\n",
    "        index = self.change_2d_to_1d(i, j)\n",
    "        newMap = self.map\n",
    "        if self.map[index] == 'P':\n",
    "            x, y = i, j\n",
    "            if direction == 'Right':\n",
    "                tempi, tempj = i+1, j\n",
    "            if direction == 'Down':\n",
    "                tempi, tempj = i, j+1\n",
    "            if direction == 'Left':\n",
    "                tempi, tempj = i-1, j\n",
    "            if direction == 'Up':\n",
    "                tempi, tempj = i, j-1\n",
    "            tempIndex = self.change_2d_to_1d(tempi, tempj)\n",
    "            if self.map[tempIndex].isdigit():\n",
    "                if self.map[tempIndex] == '1':\n",
    "                    newMap = self.changeMap(newMap, x, y, tempi, tempj, ' ')\n",
    "                else:\n",
    "                    newMap = self.changeMap(newMap, x, y, tempi, tempj, str(int(self.map[tempIndex])-1))\n",
    "            else: \n",
    "                newMap = self.changeMap(newMap, x, y, tempi, tempj, 'P')\n",
    "               \n",
    "        x, y = self.ambulancePosition[0], self.ambulancePosition[1]\n",
    "        newMap = self.changeMap(newMap, x, y, i, j, 'A')\n",
    "        return newMap\n",
    "        \n",
    "        \n",
    "    def getPossibleStates(self): \n",
    "        states = []\n",
    "        i , j = self.ambulancePosition[0], self.ambulancePosition[1]\n",
    "\n",
    "        if self.checkObstacle(i+1, j, 'Right'):\n",
    "            states.append(self.move(i+1, j, 'Right')) \n",
    "            \n",
    "        if self.checkObstacle(i, j+1, 'Down'):\n",
    "            states.append(self.move(i, j+1, 'Down'))\n",
    "            \n",
    "        if self.checkObstacle(i-1, j, 'Left'):\n",
    "            states.append(self.move(i-1, j, 'Left'))\n",
    "            \n",
    "        if self.checkObstacle(i, j-1, 'Up'):\n",
    "            states.append(self.move(i, j-1, 'Up'))\n",
    "            \n",
    "        return states\n",
    "        \n",
    "        \n",
    "    def getHospitalsPosition(self):\n",
    "        self.HospitalsPosition = []\n",
    "        for j in self.hospitalsCapacities:\n",
    "            temp = [self.change_1d_to_2d(i) for i in range(len(self.map)) if self.map.startswith(str(j), i)]\n",
    "            for k in temp:\n",
    "                if k not in self.HospitalsPosition:\n",
    "                    self.HospitalsPosition.append(k)\n",
    "        return self.HospitalsPosition\n",
    "    \n",
    "    \n",
    "    def calculateDistance(self, x1,y1,x2,y2):  \n",
    "        dist = math.sqrt((x2 - x1)**2 + (y2 - y1)**2)  \n",
    "        return dist  \n",
    "    \n",
    "    def calculateAmbulanceDistanceFromHospitals(self):\n",
    "        total = 0\n",
    "        for i in self.HospitalsPosition:\n",
    "            total += self.calculateDistance(i[0],i[1],self.ambulancePosition[0],self.ambulancePosition[1])\n",
    "        return total\n",
    "    \n",
    "    def calculateAmbulanceDistanceFromPatients(self):\n",
    "        total = 0\n",
    "        for i in self.patientsPosition:\n",
    "            total += self.calculateDistance(i[0],i[1],self.ambulancePosition[0],self.ambulancePosition[1])\n",
    "        return total\n",
    "    \n",
    "    def calculatePatientDistanceFromHospitals(self, x, y):\n",
    "        result = []\n",
    "        \n",
    "        for i in self.HospitalsPosition:\n",
    "            result.append(self.calculateDistance(x, y, i[0], i[1]))\n",
    "        if len(result) == 0:\n",
    "            return [0]\n",
    "        return result\n",
    "        \n",
    "    def calculatePatientsDistanceFromHospitals(self):\n",
    "        total = 0\n",
    "        for i in self.patientsPosition:\n",
    "            total += min(self.calculatePatientDistanceFromHospitals(i[0],i[1]))\n",
    "        return total\n",
    "        \n",
    "    def firstHeuristic(self):\n",
    "        self.getHospitalsPosition()\n",
    "        return self.calculatePatientsDistanceFromHospitals() + self.calculateAmbulanceDistanceFromPatients()\n",
    "    \n",
    "    def secondHeuristic(self):\n",
    "        self.getHospitalsPosition()\n",
    "        return self.calculatePatientsDistanceFromHospitals() \n",
    "    "
   ]
  },
  {
   "cell_type": "markdown",
   "metadata": {},
   "source": [
    "I also use a class named **Node** for having the state of the node and its level. I also keep its heuristic value for A* algorithm. I have impelement `__cmp__` and `__gt__` for comparing the heuristic values of two distinct node."
   ]
  },
  {
   "cell_type": "code",
   "execution_count": 3,
   "metadata": {},
   "outputs": [],
   "source": [
    "class Node:\n",
    "    \n",
    "    def __init__(self, state, level, heuristicValue = math.inf):\n",
    "        self.state = state\n",
    "        self.level = level\n",
    "        self.heuristicValue = heuristicValue\n",
    "        \n",
    "    def __cmp__(self, other):\n",
    "        return cmp(self.heuristicValue, other.heuristicValue)\n",
    "    \n",
    "    def __gt__(self, other):\n",
    "        return self.heuristicValue > other.heuristicValue"
   ]
  },
  {
   "cell_type": "markdown",
   "metadata": {},
   "source": [
    "Now I read one of the test cases and print its information for example."
   ]
  },
  {
   "cell_type": "code",
   "execution_count": 4,
   "metadata": {},
   "outputs": [
    {
     "name": "stdout",
     "output_type": "stream",
     "text": [
      "######\n",
      "#   3#\n",
      "# ## #\n",
      "#   P#\n",
      "# PP #\n",
      "#1P A#\n",
      "######\n",
      "\n",
      "Ambulance Position is:  (4, 5)\n",
      "Patients position are:  [(4, 3), (2, 4), (3, 4), (2, 5)]\n",
      "Hospitals capacities are:  [3, 1]\n"
     ]
    }
   ],
   "source": [
    "mapData = open(\"./testcases/test2.txt\", \"r\").read()\n",
    "print(mapData)\n",
    "\n",
    "initialState = State(mapData)\n",
    "print('Ambulance Position is: ', initialState.ambulancePosition)\n",
    "print('Patients position are: ', initialState.getPatientsPostions())\n",
    "print('Hospitals capacities are: ', initialState.getHospitalsCapacities())"
   ]
  },
  {
   "cell_type": "markdown",
   "metadata": {},
   "source": [
    "## BFS\n"
   ]
  },
  {
   "cell_type": "markdown",
   "metadata": {},
   "source": [
    "Breadth-first search(BFS) is an algorithm for traversing or searching tree or graph data structures which give us the optimal solution. It starts at the tree root and explores all of the neighbour nodes at the present depth prior to moving on to the nodes at the next depth level. As the nodes are explored based on their depth, it is guaranteed that the solution is optimal.\n",
    "\n",
    "This algorithm has a queue as it's frontier and a set as it's explored. I have chosen the `set` data structure for the explored node as we can look up a value in a set with approximately time complexity of O(1).\n",
    "\n",
    "The algorithm run like this:\n",
    "\n",
    "\n",
    "* At first, we added initial state(map of the test cases) into the frontier and explored and then pop it from the frontier.\n",
    "\n",
    "* Then all possible actions from the initial state which does not explore$^{*}$ before will add to the frontier\n",
    "\n",
    "* Next, we will redo these steps until we find goal state.\n",
    "\n",
    "$^{*}$ The given pseudo-code for BFS in the slides check that new actions were neither in explored nodes nor in the frontier. But because I use a queue for implementing frontier, searching on this data structure is not efficient. So, I used the explored set and add frontier nodes on it; therefore, I have both of the explored and frontier together."
   ]
  },
  {
   "cell_type": "code",
   "execution_count": 5,
   "metadata": {},
   "outputs": [],
   "source": [
    "def bfs(initialState):\n",
    "    allMove = 1\n",
    "    node = Node(initialState,0)\n",
    "    if node.state.isGoalState(): \n",
    "        return node.level, allMove, allMove\n",
    "    frontier = deque([node])\n",
    "    explored = set([node.state.map])\n",
    "    while True : \n",
    "        if len(frontier) == 0: \n",
    "            return -1, -1, -1\n",
    "        node = frontier.popleft()\n",
    "        for action in node.state.getPossibleStates():\n",
    "            if not action in explored:\n",
    "                child = Node(State(action), node.level + 1)\n",
    "                if child.state.isGoalState(): \n",
    "                    return child.level, allMove, allMove\n",
    "                frontier.append(child)\n",
    "                allMove += 1\n",
    "                explored.add(child.state.map)"
   ]
  },
  {
   "cell_type": "markdown",
   "metadata": {},
   "source": [
    "Now, I run one of the test cases for example."
   ]
  },
  {
   "cell_type": "code",
   "execution_count": 6,
   "metadata": {},
   "outputs": [
    {
     "name": "stdout",
     "output_type": "stream",
     "text": [
      "Time: 0.8749079704284668 seconds\n",
      "Solution's Depth:  27\n",
      "Nodes Visited:  15736\n",
      "Distinct Nodes Visited:  15736\n"
     ]
    }
   ],
   "source": [
    "mapData = open(\"./testcases/test2.txt\", \"r\").read()\n",
    "initialState = State(mapData)\n",
    "\n",
    "start = time.time() \n",
    "level, allMove, allDistinctMove = bfs(initialState)\n",
    "end = time.time()\n",
    "\n",
    "print(\"Time: %s seconds\" % (end - start))\n",
    "print(\"Solution's Depth: \", level)\n",
    "print(\"Nodes Visited: \", allMove)\n",
    "print(\"Distinct Nodes Visited: \", allDistinctMove)"
   ]
  },
  {
   "cell_type": "markdown",
   "metadata": {},
   "source": [
    "## IDS\n"
   ]
  },
  {
   "cell_type": "markdown",
   "metadata": {},
   "source": [
    "Iterative deepening search(IDS) is a state space/graph search strategy in which a depth-limited version of depth-first search is run repeatedly with increasing depth limits until the goal is found. IDS is optimal like breadth-first search, but uses much less memory; at each iteration, it visits the nodes in the search tree in the same order as depth-first search, but the cumulative order in which nodes are first visited is effectively breadth-first.\n",
    "\n",
    "For running `IDS` algorithm we should saved explored node, but unlike `BFS` algorithm we should check the level(depth) of the node to make sure we should add new node to frontier or not. Because, in `IDS` algorithm it is possible to see a repeated state but in less depth. So, I make a new class named **ExploredNode** to save explored node. I have implement `__eq__` because when we want to check that if the new state is on explored set or not we should check the level of the two nodes to decide. Also, `__hash__` is used for having a class object in set data structure.\n",
    "\n"
   ]
  },
  {
   "cell_type": "code",
   "execution_count": 7,
   "metadata": {},
   "outputs": [],
   "source": [
    "class ExploredNode():\n",
    "    def __init__(self, data, level):\n",
    "        self.level = level\n",
    "        self.data = data\n",
    "        \n",
    "    def __eq__(self, other):\n",
    "        if self.data == other.data and self.level <= other.level:\n",
    "            return True\n",
    "        return False\n",
    "    \n",
    "    def __hash__(self):\n",
    "        return hash((self.data))"
   ]
  },
  {
   "cell_type": "markdown",
   "metadata": {},
   "source": [
    "In order to implement the `IDS` algorithm we should call limited DFS in each level, so I used two while loop for implementing this algorith. This algorithm has a stack as its frontier(for avoiding using recursion for implementation of limited DFS) and a set of **ExploredNode** as it's explored. \n",
    "\n",
    "The algorithm run like this:\n",
    "\n",
    "* First while loop is using for increasing the level in each iteration. At each iteration frontier and explored data structure are reset to initial value.\n",
    "\n",
    "* The inner loop is for implementation of limited DFS. At each round, we pop first node from stack and if it wasn't greater than our level limit we expand it and add its possible state to the frontier."
   ]
  },
  {
   "cell_type": "code",
   "execution_count": 8,
   "metadata": {},
   "outputs": [],
   "source": [
    "def ids(initialState):\n",
    "    level = 0\n",
    "    allMove = 1\n",
    "    node = Node(initialState, 0)\n",
    "    \n",
    "    if node.state.isGoalState():\n",
    "        return node.level, allMove, allMove\n",
    "    \n",
    "    while True:\n",
    "        allDistinctMove = 1\n",
    "        frontier = deque([Node(initialState, 0)])\n",
    "        explored = set([ExploredNode(initialState.map, 0)])\n",
    "        level += 1\n",
    "        \n",
    "        while True:\n",
    "            if len(frontier) == 0 : \n",
    "                break # Depth explored\n",
    "            node = frontier.pop()\n",
    "            if node.level >= level : \n",
    "                continue \n",
    "            for action in node.state.getPossibleStates():\n",
    "                if not ExploredNode(action, node.level+1) in explored:\n",
    "                    allMove += 1\n",
    "                    if not ExploredNode(action, math.inf) in explored : \n",
    "                        allDistinctMove += 1\n",
    "                    child = Node(State(action), node.level + 1)\n",
    "                    if child.state.isGoalState(): \n",
    "                        return node.level+1, allMove, allDistinctMove\n",
    "                    explored.add(ExploredNode(action, node.level + 1))\n",
    "                    frontier.append(child)\n",
    "                    "
   ]
  },
  {
   "cell_type": "markdown",
   "metadata": {},
   "source": [
    "Now, I run one of the test cases for example."
   ]
  },
  {
   "cell_type": "code",
   "execution_count": 9,
   "metadata": {},
   "outputs": [
    {
     "name": "stdout",
     "output_type": "stream",
     "text": [
      "Time: 7.870615005493164 seconds\n",
      "Solution's Depth:  27\n",
      "Nodes Visited:  200659\n",
      "Distinct Nodes Visited:  6933\n"
     ]
    }
   ],
   "source": [
    "mapData = open(\"./testcases/test2.txt\", \"r\").read()\n",
    "initialState = State(mapData)\n",
    "\n",
    "start = time.time()\n",
    "level, allMove, allDistinctMove = ids(initialState)\n",
    "end = time.time()\n",
    "\n",
    "print(\"Time: %s seconds\" % (end - start))\n",
    "\n",
    "print(\"Solution's Depth: \", level)\n",
    "print(\"Nodes Visited: \", allMove)\n",
    "print(\"Distinct Nodes Visited: \", allDistinctMove)"
   ]
  },
  {
   "cell_type": "markdown",
   "metadata": {},
   "source": [
    "## A*"
   ]
  },
  {
   "cell_type": "markdown",
   "metadata": {},
   "source": [
    "A* is an informed search algorithm, or a best-first search, meaning that it is formulated in terms of weighted graphs: starting from a specific starting node of a graph, it aims to find a path to the given goal node having the smallest cost. It does this by maintaining a tree of paths originating at the start node and extending those paths one edge at a time until its termination criterion is satisfied.\n",
    "At each iteration of its main loop, A* needs to determine which of its paths to extend. It does so based on the cost of the path and an estimate of the cost required to extend the path all the way to the goal. Specifically, A* selects the path that minimizes:\n",
    "$$\n",
    "f(n) = g(n) + h(n)\n",
    "$$\n",
    "\n",
    "Where n is the next node on the path, g(n) is the cost of the path from the start node to n, and h(n) is a heuristic function that estimates the cost of the cheapest path from n to the goal. A* terminates when the path it chooses to extend is a path from start to goal or if there are no paths eligible to be extended. The heuristic function is problem-specific.\n",
    "\n",
    "A* will give us the optimal solution if:\n",
    "\n",
    "- The heuristic function is admissible - for tree search\n",
    "\n",
    "- The heuristic function is consistent - for graph search\n"
   ]
  },
  {
   "cell_type": "markdown",
   "metadata": {},
   "source": [
    "### First Heuristic"
   ]
  },
  {
   "cell_type": "markdown",
   "metadata": {},
   "source": [
    "For the first heuristic, I calculate the manhattan distance between patients and nearest hospital from each patient and add it to the ambulance manhattan distance from each patients. \n",
    "`self.calculatePatientsDistanceFromHospitals() + self.calculateAmbulanceDistanceFromPatients()`\n",
    "\n",
    "From definition a heuristic is admissible if: $h(n) \\leq g(n) $ which $h(n)$ is heuristic function that estimates the cost of the cheapest path from n to the goal and $g(n)$ is actual path cost to goal.  \n",
    "\n",
    "My proposed heuristic is admissible because:\n",
    "\n",
    "**PROVE**: In my heuristic, I calculate the minimum manhattan path cost for taking each patient to the hospital. But in reality,it is probable that there exist an obstacles in the way or the agents may choose to go in opposite directions, etc. Also, I calculate the manhattan distance and the real path is greater."
   ]
  },
  {
   "cell_type": "markdown",
   "metadata": {},
   "source": [
    "### Second Heuristic"
   ]
  },
  {
   "cell_type": "markdown",
   "metadata": {},
   "source": [
    "For the second heuristic, I calculate the manhattan distance between patients and nearest hospital from each patient. \n",
    "`self.calculatePatientsDistanceFromHospitals()`\n",
    "\n",
    "My proposed heuristic is admissible because:\n",
    "\n",
    "**PROVE**: Previous heuristic was admissble, therefore this heuristic is admissble too. Because its less than previous one."
   ]
  },
  {
   "cell_type": "markdown",
   "metadata": {},
   "source": [
    "### Heuristic Comparison"
   ]
  },
  {
   "cell_type": "markdown",
   "metadata": {},
   "source": [
    "As the table in the end of the document shows, the first heuristic is much more efficient because its calculate $h(n)$ better. And its more near to the actual cost."
   ]
  },
  {
   "cell_type": "markdown",
   "metadata": {},
   "source": [
    "### Algorithm"
   ]
  },
  {
   "cell_type": "markdown",
   "metadata": {},
   "source": [
    "This algorithm is very similar to `BFS` algorithm, but it uses a priority queue as it's frontier instead. Also, I used set of **ExploredNode** as it's explored data structure due to the same reason in IDS algorithm. I add one attribute to the Node class for keep tracking of the heuristic value in each node.\n",
    "\n",
    "The algorithm run like this:\n",
    " \n",
    "* At first we put intial state into frontier and then get$^{*}$ it from the priority queue. \n",
    "* Then all possible actions from initial values which does not explored before, will add to the frontier \n",
    "* and next we will redo these steps until we find goal state.\n",
    "\n",
    "$^{*}$ The get method give us the node with minimum heuristic value, because I overwrite the `__gt__` method in Node class."
   ]
  },
  {
   "cell_type": "code",
   "execution_count": 10,
   "metadata": {},
   "outputs": [],
   "source": [
    "def aStar(initialState, heuristicFunction):\n",
    "    allMove = 1\n",
    "    allDistinctMove = 1\n",
    "    frontier = PriorityQueue()\n",
    "    if heuristicFunction == 'first':\n",
    "        node = Node(initialState, 0, initialState.firstHeuristic() + 0)\n",
    "    else:\n",
    "        node = Node(initialState, 0, initialState.secondHeuristic() + 0)\n",
    "    frontier.put(node)\n",
    "    if node.state.isGoalState(): \n",
    "        return node.level, allMove, allDistinctMove\n",
    "    explored = set([ExploredNode(node.state.map, 0)])\n",
    "    while True : \n",
    "        if frontier.empty(): \n",
    "            return -1, -1, -1\n",
    "        node = frontier.get()\n",
    "        for action in node.state.getPossibleStates():\n",
    "            if not ExploredNode(action, node.level + 1) in explored :\n",
    "                allMove += 1\n",
    "                if not ExploredNode(action, math.inf) in explored :\n",
    "                    allDistinctMove += 1\n",
    "                childState = State(action)\n",
    "                if childState.isGoalState(): \n",
    "                    return node.level + 1, allMove, allDistinctMove\n",
    "                \n",
    "                if heuristicFunction == 'first':\n",
    "                    child = Node(childState, node.level + 1, node.level + 1 + childState.firstHeuristic())\n",
    "                else:\n",
    "                    child = Node(childState, node.level + 1, node.level + 1 + childState.secondHeuristic())\n",
    "                \n",
    "                frontier.put(child)\n",
    "                explored.add(ExploredNode(child.state.map, child.level))"
   ]
  },
  {
   "cell_type": "markdown",
   "metadata": {},
   "source": [
    "Now, I run one of the test cases for first heuristic for example."
   ]
  },
  {
   "cell_type": "code",
   "execution_count": 11,
   "metadata": {},
   "outputs": [
    {
     "name": "stdout",
     "output_type": "stream",
     "text": [
      "Time: 0.6154098510742188 seconds\n",
      "Solution's Depth:  27\n",
      "Nodes Visited:  5932\n",
      "Distinct Nodes Visited:  5477\n"
     ]
    }
   ],
   "source": [
    "mapData = open(\"./testcases/test2.txt\", \"r\").read()\n",
    "initialState = State(mapData)\n",
    "\n",
    "start = time.time()\n",
    "level, allMove, allDistinctMove = aStar(initialState, 'first')\n",
    "end = time.time()\n",
    "\n",
    "print(\"Time: %s seconds\" % (end - start))\n",
    "\n",
    "print(\"Solution's Depth: \", level)\n",
    "print(\"Nodes Visited: \", allMove)\n",
    "print(\"Distinct Nodes Visited: \", allDistinctMove)"
   ]
  },
  {
   "cell_type": "markdown",
   "metadata": {},
   "source": [
    "Now, I run one of the test cases for second heuristic for example."
   ]
  },
  {
   "cell_type": "code",
   "execution_count": 12,
   "metadata": {},
   "outputs": [
    {
     "name": "stdout",
     "output_type": "stream",
     "text": [
      "Time: 0.8996541500091553 seconds\n",
      "Solution's Depth:  27\n",
      "Nodes Visited:  12626\n",
      "Distinct Nodes Visited:  11821\n"
     ]
    }
   ],
   "source": [
    "mapData = open(\"./testcases/test2.txt\", \"r\").read()\n",
    "initialState = State(mapData)\n",
    "\n",
    "start = time.time()\n",
    "level, allMove, allDistinctMove = aStar(initialState, 'second')\n",
    "end = time.time()\n",
    "\n",
    "print(\"Time: %s seconds\" % (end - start))\n",
    "\n",
    "print(\"Solution's Depth: \", level)\n",
    "print(\"Nodes Visited: \", allMove)\n",
    "print(\"Distinct Nodes Visited: \", allDistinctMove)"
   ]
  },
  {
   "cell_type": "markdown",
   "metadata": {},
   "source": [
    "## Comparison"
   ]
  },
  {
   "cell_type": "markdown",
   "metadata": {},
   "source": [
    "### BFS\n",
    "\n",
    "- Complete: Yes (If branching factor is finite)\n",
    "\n",
    "- Optimal: Yes (If cost of the edges are equal)\n",
    "\n",
    "- Time: O($b^d$) where b is the branching factor and d is the solution's depth.\n",
    "\n",
    "- Space: O($b^d$)\n",
    "\n",
    "\n",
    "### IDS\n",
    "\n",
    "- Complete: Yes (If branching factor is finite)\n",
    "\n",
    "- Optimal: Yes (If cost of the edges are equal.)\n",
    "\n",
    "- Time: ($d+1$)$b^0$ + ($d$)$b^1$ + ($d-1$)$b^2$ + ... + $b^d$ = O($b^d$)\n",
    "\n",
    "- Space: O($bd$)\n",
    "\n",
    "\n",
    "### A*\n",
    "\n",
    "- Complete: Yes \n",
    "\n",
    "- Optimal: Yes \n",
    "\n",
    "- Time: Number of nodes for which f(n) ≤ C* where C* is the optimal path cost (exponential). It actually depends on the heuristic and it reduces when the heuristic gets closer to the actual cost. \n",
    "\n",
    "- Space: exponential \n",
    "\n",
    "To sum up we can say here A* and BFS can be good answers for this problem. They have near time complexity and have less seen state."
   ]
  },
  {
   "cell_type": "code",
   "execution_count": 13,
   "metadata": {},
   "outputs": [],
   "source": [
    "def findAverageForAlgorithm(alg, initialState, heuristicFunction=''):\n",
    "    meanTime, allMove, allDistinctMove, level = 0, 0, 0, 0;\n",
    "    for i in range(0, 3):\n",
    "        if alg == aStar:\n",
    "            start = time.time()\n",
    "            level, allMove, allDistinctMove = alg(initialState, heuristicFunction)\n",
    "            end = time.time()\n",
    "        else:\n",
    "            start = time.time()\n",
    "            level, allMove, allDistinctMove = alg(initialState)\n",
    "            end = time.time()\n",
    "        \n",
    "        meanTime += end - start\n",
    "    return level, allMove, allDistinctMove, meanTime/3\n",
    "\n",
    "tables = []\n",
    "\n",
    "for path in ['./testcases/test1.txt', './testcases/test2.txt', './testcases/test3.txt']:\n",
    "    table = pd.DataFrame([], index=['BFS','IDS', 'First A*', 'Second A*'],\n",
    "                     columns=['Answer Cost', 'Total States', 'Total Distinct States', 'Execution Time'])\n",
    "    mapData = open(path, \"r\").read()\n",
    "    initialState = State(mapData)\n",
    "    \n",
    "    level, allMove, allDistinctMove, meanTime = findAverageForAlgorithm(bfs, initialState)\n",
    "    table.loc['BFS']['Answer Cost'] = level\n",
    "    table.loc['BFS']['Total States'] = allMove\n",
    "    table.loc['BFS']['Total Distinct States'] = allDistinctMove \n",
    "    table.loc['BFS']['Execution Time'] = meanTime\n",
    "   \n",
    "    level, allMove, allDistinctMove, meanTime = findAverageForAlgorithm(ids, initialState)\n",
    "    table.loc['IDS']['Answer Cost'] = level\n",
    "    table.loc['IDS']['Total States'] = allMove\n",
    "    table.loc['IDS']['Total Distinct States'] = allDistinctMove \n",
    "    table.loc['IDS']['Execution Time'] = meanTime\n",
    "    \n",
    "    level, allMove, allDistinctMove, meanTime = findAverageForAlgorithm(aStar, initialState, 'first')\n",
    "    table.loc['First A*']['Answer Cost'] = level\n",
    "    table.loc['First A*']['Total States'] = allMove\n",
    "    table.loc['First A*']['Total Distinct States'] = allDistinctMove \n",
    "    table.loc['First A*']['Execution Time'] = meanTime\n",
    "    \n",
    "    level, allMove, allDistinctMove, meanTime = findAverageForAlgorithm(aStar, initialState, 'second')\n",
    "    table.loc['Second A*']['Answer Cost'] = level\n",
    "    table.loc['Second A*']['Total States'] = allMove\n",
    "    table.loc['Second A*']['Total Distinct States'] = allDistinctMove \n",
    "    table.loc['Second A*']['Execution Time'] = meanTime\n",
    "    \n",
    "    tables.append(table)\n",
    "    "
   ]
  },
  {
   "cell_type": "markdown",
   "metadata": {},
   "source": [
    "### Test case 1"
   ]
  },
  {
   "cell_type": "code",
   "execution_count": 14,
   "metadata": {},
   "outputs": [
    {
     "data": {
      "text/html": [
       "<div>\n",
       "<style scoped>\n",
       "    .dataframe tbody tr th:only-of-type {\n",
       "        vertical-align: middle;\n",
       "    }\n",
       "\n",
       "    .dataframe tbody tr th {\n",
       "        vertical-align: top;\n",
       "    }\n",
       "\n",
       "    .dataframe thead th {\n",
       "        text-align: right;\n",
       "    }\n",
       "</style>\n",
       "<table border=\"1\" class=\"dataframe\">\n",
       "  <thead>\n",
       "    <tr style=\"text-align: right;\">\n",
       "      <th></th>\n",
       "      <th>Answer Cost</th>\n",
       "      <th>Total States</th>\n",
       "      <th>Total Distinct States</th>\n",
       "      <th>Execution Time</th>\n",
       "    </tr>\n",
       "  </thead>\n",
       "  <tbody>\n",
       "    <tr>\n",
       "      <th>BFS</th>\n",
       "      <td>11</td>\n",
       "      <td>510</td>\n",
       "      <td>510</td>\n",
       "      <td>0.016871</td>\n",
       "    </tr>\n",
       "    <tr>\n",
       "      <th>IDS</th>\n",
       "      <td>11</td>\n",
       "      <td>1993</td>\n",
       "      <td>497</td>\n",
       "      <td>0.0606446</td>\n",
       "    </tr>\n",
       "    <tr>\n",
       "      <th>First A*</th>\n",
       "      <td>11</td>\n",
       "      <td>255</td>\n",
       "      <td>251</td>\n",
       "      <td>0.0135767</td>\n",
       "    </tr>\n",
       "    <tr>\n",
       "      <th>Second A*</th>\n",
       "      <td>11</td>\n",
       "      <td>553</td>\n",
       "      <td>549</td>\n",
       "      <td>0.0300509</td>\n",
       "    </tr>\n",
       "  </tbody>\n",
       "</table>\n",
       "</div>"
      ],
      "text/plain": [
       "          Answer Cost Total States Total Distinct States Execution Time\n",
       "BFS                11          510                   510       0.016871\n",
       "IDS                11         1993                   497      0.0606446\n",
       "First A*           11          255                   251      0.0135767\n",
       "Second A*          11          553                   549      0.0300509"
      ]
     },
     "execution_count": 14,
     "metadata": {},
     "output_type": "execute_result"
    }
   ],
   "source": [
    "tables[0]"
   ]
  },
  {
   "cell_type": "markdown",
   "metadata": {},
   "source": [
    "### Test case 2"
   ]
  },
  {
   "cell_type": "code",
   "execution_count": 15,
   "metadata": {},
   "outputs": [
    {
     "data": {
      "text/html": [
       "<div>\n",
       "<style scoped>\n",
       "    .dataframe tbody tr th:only-of-type {\n",
       "        vertical-align: middle;\n",
       "    }\n",
       "\n",
       "    .dataframe tbody tr th {\n",
       "        vertical-align: top;\n",
       "    }\n",
       "\n",
       "    .dataframe thead th {\n",
       "        text-align: right;\n",
       "    }\n",
       "</style>\n",
       "<table border=\"1\" class=\"dataframe\">\n",
       "  <thead>\n",
       "    <tr style=\"text-align: right;\">\n",
       "      <th></th>\n",
       "      <th>Answer Cost</th>\n",
       "      <th>Total States</th>\n",
       "      <th>Total Distinct States</th>\n",
       "      <th>Execution Time</th>\n",
       "    </tr>\n",
       "  </thead>\n",
       "  <tbody>\n",
       "    <tr>\n",
       "      <th>BFS</th>\n",
       "      <td>27</td>\n",
       "      <td>15736</td>\n",
       "      <td>15736</td>\n",
       "      <td>0.672707</td>\n",
       "    </tr>\n",
       "    <tr>\n",
       "      <th>IDS</th>\n",
       "      <td>27</td>\n",
       "      <td>200659</td>\n",
       "      <td>6933</td>\n",
       "      <td>6.97383</td>\n",
       "    </tr>\n",
       "    <tr>\n",
       "      <th>First A*</th>\n",
       "      <td>27</td>\n",
       "      <td>5932</td>\n",
       "      <td>5477</td>\n",
       "      <td>0.389792</td>\n",
       "    </tr>\n",
       "    <tr>\n",
       "      <th>Second A*</th>\n",
       "      <td>27</td>\n",
       "      <td>12626</td>\n",
       "      <td>11821</td>\n",
       "      <td>0.767281</td>\n",
       "    </tr>\n",
       "  </tbody>\n",
       "</table>\n",
       "</div>"
      ],
      "text/plain": [
       "          Answer Cost Total States Total Distinct States Execution Time\n",
       "BFS                27        15736                 15736       0.672707\n",
       "IDS                27       200659                  6933        6.97383\n",
       "First A*           27         5932                  5477       0.389792\n",
       "Second A*          27        12626                 11821       0.767281"
      ]
     },
     "execution_count": 15,
     "metadata": {},
     "output_type": "execute_result"
    }
   ],
   "source": [
    "tables[1]"
   ]
  },
  {
   "cell_type": "markdown",
   "metadata": {},
   "source": [
    "### Test case 3"
   ]
  },
  {
   "cell_type": "code",
   "execution_count": 16,
   "metadata": {},
   "outputs": [
    {
     "data": {
      "text/html": [
       "<div>\n",
       "<style scoped>\n",
       "    .dataframe tbody tr th:only-of-type {\n",
       "        vertical-align: middle;\n",
       "    }\n",
       "\n",
       "    .dataframe tbody tr th {\n",
       "        vertical-align: top;\n",
       "    }\n",
       "\n",
       "    .dataframe thead th {\n",
       "        text-align: right;\n",
       "    }\n",
       "</style>\n",
       "<table border=\"1\" class=\"dataframe\">\n",
       "  <thead>\n",
       "    <tr style=\"text-align: right;\">\n",
       "      <th></th>\n",
       "      <th>Answer Cost</th>\n",
       "      <th>Total States</th>\n",
       "      <th>Total Distinct States</th>\n",
       "      <th>Execution Time</th>\n",
       "    </tr>\n",
       "  </thead>\n",
       "  <tbody>\n",
       "    <tr>\n",
       "      <th>BFS</th>\n",
       "      <td>39</td>\n",
       "      <td>64048</td>\n",
       "      <td>64048</td>\n",
       "      <td>2.3287</td>\n",
       "    </tr>\n",
       "    <tr>\n",
       "      <th>IDS</th>\n",
       "      <td>39</td>\n",
       "      <td>1240435</td>\n",
       "      <td>15978</td>\n",
       "      <td>53.0919</td>\n",
       "    </tr>\n",
       "    <tr>\n",
       "      <th>First A*</th>\n",
       "      <td>39</td>\n",
       "      <td>22691</td>\n",
       "      <td>21198</td>\n",
       "      <td>1.59182</td>\n",
       "    </tr>\n",
       "    <tr>\n",
       "      <th>Second A*</th>\n",
       "      <td>39</td>\n",
       "      <td>60791</td>\n",
       "      <td>58546</td>\n",
       "      <td>4.05313</td>\n",
       "    </tr>\n",
       "  </tbody>\n",
       "</table>\n",
       "</div>"
      ],
      "text/plain": [
       "          Answer Cost Total States Total Distinct States Execution Time\n",
       "BFS                39        64048                 64048         2.3287\n",
       "IDS                39      1240435                 15978        53.0919\n",
       "First A*           39        22691                 21198        1.59182\n",
       "Second A*          39        60791                 58546        4.05313"
      ]
     },
     "execution_count": 16,
     "metadata": {},
     "output_type": "execute_result"
    }
   ],
   "source": [
    "tables[2]"
   ]
  }
 ],
 "metadata": {
  "kernelspec": {
   "display_name": "Python 3",
   "language": "python",
   "name": "python3"
  },
  "language_info": {
   "codemirror_mode": {
    "name": "ipython",
    "version": 3
   },
   "file_extension": ".py",
   "mimetype": "text/x-python",
   "name": "python",
   "nbconvert_exporter": "python",
   "pygments_lexer": "ipython3",
   "version": "3.7.4"
  }
 },
 "nbformat": 4,
 "nbformat_minor": 2
}
